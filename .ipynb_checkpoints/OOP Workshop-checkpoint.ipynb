{
 "cells": [
  {
   "cell_type": "markdown",
   "metadata": {},
   "source": [
    "# Object-Orientated Programming (OOP) Workshop"
   ]
  },
  {
   "cell_type": "markdown",
   "metadata": {},
   "source": [
    "By Zhaoxuan \"Tony\" Wu and Shirui \"Eric\" Lyu"
   ]
  },
  {
   "cell_type": "markdown",
   "metadata": {},
   "source": [
    "In this workshop, you will be introduced Object-Orientated Programming (OOP) paradigm, you will implement a simple system for managing the employees and students at the UCL using OOP to help you understand the concepts of abstraction, containment, polymorphism, and inheritance.\n",
    "\n",
    "We will also look at its use cases in data science. For instances, how to call an API and how to create a pandas DataFrame. Followed by a practice.\n",
    "\n",
    "Learning objectives:\n",
    "- Abstraction\n",
    "- Creating a class\n",
    "- Object vs. class\n",
    "- Instantialising a class\n",
    "- What is \"self\"?\n",
    "- Containment\n",
    "- Inheritance\n",
    "- Polymorphism\n",
    "- JavaScript Object Notation (JSON)\n",
    "- Examples in data science projects\n",
    "- Practice"
   ]
  },
  {
   "cell_type": "markdown",
   "metadata": {},
   "source": [
    "## Abstraction"
   ]
  },
  {
   "cell_type": "markdown",
   "metadata": {},
   "source": [
    "The idea of adstracction is to find the common features between a collection of a certain type of things, that are highly related to the represented concept itself."
   ]
  },
  {
   "cell_type": "code",
   "execution_count": 36,
   "metadata": {},
   "outputs": [],
   "source": [
    "#class Book:\n",
    "    # String name \"name of the book\"\n",
    "    # String author \"who wrote the book\"\n",
    "    # Date publish_time\n",
    "    # String language\n",
    "    # Think of any other properties that is about books?\n",
    "    # These are the concepts that pops up to everyone's mind when we talk about the word \"book\"\n",
    "    # We also want to focus on the \"state\", \"identity\" and \"behaviour\" of a book\n",
    "    # Identity means that this object can be uniquely identified through certain properties\n",
    "    # Behaviour is about changes due to outer stimuluses, like the process of translation turns a language to another\n",
    "    # State is how the object will behaviour due to its properties"
   ]
  },
  {
   "cell_type": "markdown",
   "metadata": {},
   "source": [
    "# Creating a class"
   ]
  },
  {
   "cell_type": "code",
   "execution_count": 37,
   "metadata": {},
   "outputs": [],
   "source": [
    "class Book:\n",
    "    def __init__(self, name = \"\", author = \"\", date = None, language = \"\", price = 0):\n",
    "        # here we set the default value to these objects.\n",
    "        # Those values are the properties of this object\n",
    "        self.name = name\n",
    "        self.author = author\n",
    "        self.date = date\n",
    "        self.language = language\n",
    "        self.price = price\n",
    "        \n",
    "    def translate(self, language):\n",
    "        self.language = language\n",
    "        \n",
    "    def __str__(self):\n",
    "        return \"The name of this book is \" + self.name + \"\\n\" + \"and it is written in \" + self.language"
   ]
  },
  {
   "cell_type": "code",
   "execution_count": 38,
   "metadata": {},
   "outputs": [
    {
     "name": "stdout",
     "output_type": "stream",
     "text": [
      "The name of this book is Text book\n",
      "and it is written in French\n",
      "The name of this book is Text book\n",
      "and it is written in English\n"
     ]
    }
   ],
   "source": [
    "myBook = Book(\"Text book\", \"UCL prof\", language = \"French\")\n",
    "print(myBook)\n",
    "someBook = Book(\"DSS\")\n",
    "myBook.translate(\"English\")\n",
    "print(myBook)"
   ]
  },
  {
   "cell_type": "code",
   "execution_count": 39,
   "metadata": {},
   "outputs": [],
   "source": [
    "class BookShelf:\n",
    "    \n",
    "    def __init__(self, book_on_shelf = []):\n",
    "        # list = new list of type Book\n",
    "        self.shelf = book_on_shelf\n",
    "    \n",
    "    def add_book(self, new_book):\n",
    "        self.shelf.append(new_book)\n",
    "        \n",
    "    def remove_book(self, book_name):\n",
    "        for book in self.shelf:\n",
    "            if book.name == book_name:\n",
    "                self.shelf.remove(book)\n",
    "    \n",
    "    def display_book(self):\n",
    "        for book in self.shelf:\n",
    "            # Here we want the output to be on a single line\n",
    "            print(book.name, end = ', ')\n",
    "    "
   ]
  },
  {
   "cell_type": "code",
   "execution_count": 40,
   "metadata": {},
   "outputs": [
    {
     "name": "stdout",
     "output_type": "stream",
     "text": [
      "Text book, DSS, Text book, "
     ]
    }
   ],
   "source": [
    "shelf = BookShelf([myBook, someBook])\n",
    "shelf.display_book()\n",
    "shelf.remove_book(\"DSS\")\n",
    "shelf.display_book()"
   ]
  },
  {
   "cell_type": "code",
   "execution_count": 53,
   "metadata": {},
   "outputs": [],
   "source": [
    "class MathBook(Book):\n",
    "    \n",
    "    def __init__(self, name = \"\", author = \"\", date = None, language = \"\", price = 0, topic = \"\"):\n",
    "        Book.__init__(self, name, author, date, language, price)\n",
    "        self.__topic = topic\n",
    "        \n",
    "    def translate(self):\n",
    "        # override\n",
    "        self.language = \"e^3 - 1\"\n",
    "    \n",
    "    def parentTranslate(self,lang):\n",
    "        # Polymorphism\n",
    "        super().translate(lang)\n",
    "        \n",
    "    def change_price(self, new_price):\n",
    "        self.price = new_price\n",
    "    \n",
    "    def get_topic(self):\n",
    "        return topic"
   ]
  },
  {
   "cell_type": "code",
   "execution_count": 55,
   "metadata": {},
   "outputs": [
    {
     "name": "stdout",
     "output_type": "stream",
     "text": [
      "The name of this book is Linear Algebra\n",
      "and it is written in e^3 - 1\n",
      "English\n",
      "300\n"
     ]
    }
   ],
   "source": [
    "Erics = MathBook(name = \"Linear Algebra\", author = \"DSS\", price = 300, topic = \"functions\")\n",
    "Erics.translate()\n",
    "print(Erics)\n",
    "Erics.parentTranslate(\"English\")\n",
    "print(Erics.language)\n",
    "print(Erics.price)"
   ]
  },
  {
   "cell_type": "code",
   "execution_count": 12,
   "metadata": {},
   "outputs": [
    {
     "name": "stdout",
     "output_type": "stream",
     "text": [
      "First\n"
     ]
    }
   ],
   "source": [
    "import time\n",
    "\n",
    "class Person:\n",
    "    def __init__(self, name = \"\", gender = None, YoB = None, eu_citizen = False, ucl_id = \"\"):\n",
    "        self.name = name\n",
    "        self.gender = gender\n",
    "        self.YoB = YoB\n",
    "        self.eu_citizen = eu_citizen\n",
    "        self.ucl_id = ucl_id\n",
    "        \n",
    "    def calculateAge(self):\n",
    "        #print(time.date(\"YYYY\"))\n",
    "        pass\n",
    "        \n",
    "    def outputPerson(self):\n",
    "        info = \"Name: \"+ self.name + \"\\n\" + \"Gender: \" + self.gender + \"\\n\" + \"EU Citizen?: \" + self.eu_citizen + '\\n' +\"UCL ID: \" + self.ucl_id\n",
    "        return info\n",
    "    \n",
    "class Module:\n",
    "    def __init__(self,name = \"\", lecturer = \"\", grade = \"First\"):\n",
    "        self.name = name\n",
    "        self.lecturer = lecturer\n",
    "        self.grade = grade\n",
    "    \n",
    "    \n",
    "class Student(Person):\n",
    "    def __init__(self, name = \"\", gender = None, YoB = None, eu_citizen = False, ucl_id = \"\",programme = \"\",balance = 0, modules = []):\n",
    "        super().__init__(name, gender, YoB, eu_citizen, ucl_id)\n",
    "        self.programme = programme\n",
    "        self.balance = balance\n",
    "        self.modules = modules\n",
    "        \n",
    "    def payTuition(self, amt):\n",
    "        if amt > self.balance or amt < 0:\n",
    "            print(\"ERROR - Student.payTuition(self, amt) - incorrect ammount\")\n",
    "        else:\n",
    "            self.balance -= amt\n",
    "            \n",
    "    def addModule(self,name,lecturer,grade):\n",
    "        self.modules.append(Module(name,lecturer,grade))\n",
    "        \n",
    "def Employee(Person):\n",
    "    def __init__(self, name = \"\", gender = None, YoB = None, eu_citizen = False, ucl_id = \"\", salary = 0, bankAcc = \"\"):\n",
    "        super().__init__(name = \"\", gender = None, YoB = None, eu_citizen = False, ucl_id = \"\")\n",
    "        self.salary = salary\n",
    "        self.bankAcc = bankAcc\n",
    "    \n",
    "def Staff(Employee):\n",
    "    def __init__(self, name = \"\", gender = None, YoB = None, eu_citizen = False, ucl_id = \"\", salary = 0, bankAcc = \"\", role = \"\"):\n",
    "        super().__init__(name = \"\", gender = None, YoB = None, eu_citizen = False, ucl_id = \"\", salary = 0, bankAcc = \"\")\n",
    "        self.role = role\n",
    "\n",
    "        \n",
    "        \n",
    "a = Student()\n",
    "a.addModule(\"BI\",\"Tony\",\"First\")\n",
    "print(a.modules[0].grade)"
   ]
  },
  {
   "cell_type": "code",
   "execution_count": null,
   "metadata": {},
   "outputs": [],
   "source": []
  }
 ],
 "metadata": {
  "kernelspec": {
   "display_name": "Python 3",
   "language": "python",
   "name": "python3"
  },
  "language_info": {
   "codemirror_mode": {
    "name": "ipython",
    "version": 3
   },
   "file_extension": ".py",
   "mimetype": "text/x-python",
   "name": "python",
   "nbconvert_exporter": "python",
   "pygments_lexer": "ipython3",
   "version": "3.7.4"
  }
 },
 "nbformat": 4,
 "nbformat_minor": 2
}
